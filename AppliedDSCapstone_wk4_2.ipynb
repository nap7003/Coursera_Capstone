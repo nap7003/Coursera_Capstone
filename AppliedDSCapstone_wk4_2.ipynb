{
 "cells": [
  {
   "cell_type": "markdown",
   "metadata": {},
   "source": [
    "# Applied Data Science Capstone Project - The Battle of Neighborhood (Week 1)"
   ]
  },
  {
   "cell_type": "markdown",
   "metadata": {},
   "source": [
    "## Introduction"
   ]
  },
  {
   "cell_type": "markdown",
   "metadata": {},
   "source": [
    "We will analyze and compare neighborhoods between New York City, New York and Toronto, ON, Canada in this project. Our client in North East Asia wants to set up a new North America branch, and Toronto and New York City were selected as the two cities for their final decision. The company wants some insight into the neighborhoods and local businesses in the cities so that its employees can have quality of life while they work or live in the city. This project will explore the similarities and dissimilarities between certain neighborhoods in the two cities, and suggest which neighborhoods would fit the culture of the client's employees the best."
   ]
  },
  {
   "cell_type": "markdown",
   "metadata": {},
   "source": [
    "## Data"
   ]
  },
  {
   "cell_type": "markdown",
   "metadata": {},
   "source": [
    "In this project, the data will be acquired from various sources. We will be using the datasets as follows:\n",
    "\n",
    "#### Dataset1\n",
    "New York City neighborhoods - https://geo.nyu.edu/catalog/nyu_2451_34572 \n",
    "\n",
    "#### Dataset2\n",
    "Toronto neighborhoods - https://en.wikipedia.org/wiki/List_of_postal_codes_of_Canada:_M.\n",
    "\n",
    "#### Dataset3\n",
    "Toronto's geospatial information - https://cocl.us/Geospatial_data\n",
    "\n",
    "#### Dataset4\n",
    "Foursquare API data\n",
    "\n",
    "The Dataset2 and Dataset3 will be merged based on their postal codes, which will generate a dataset consisting of the postal codes, boroughs, neighborhoods, latitude, and longitude information for Toronto. Dataset1 has the boroughs, neighborhoods, latitude and longitude information for New York City. Foursquare API search feature will be used to collect neighborhood venue information for each city.  "
   ]
  }
 ],
 "metadata": {
  "kernelspec": {
   "display_name": "Python",
   "language": "python",
   "name": "conda-env-python-py"
  },
  "language_info": {
   "codemirror_mode": {
    "name": "ipython",
    "version": 3
   },
   "file_extension": ".py",
   "mimetype": "text/x-python",
   "name": "python",
   "nbconvert_exporter": "python",
   "pygments_lexer": "ipython3",
   "version": "3.6.7"
  }
 },
 "nbformat": 4,
 "nbformat_minor": 4
}
